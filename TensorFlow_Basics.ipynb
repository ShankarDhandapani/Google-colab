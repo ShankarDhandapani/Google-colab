{
  "nbformat": 4,
  "nbformat_minor": 0,
  "metadata": {
    "colab": {
      "name": "TensorFlow Basics.ipynb",
      "version": "0.3.2",
      "provenance": [],
      "collapsed_sections": [],
      "include_colab_link": true
    },
    "kernelspec": {
      "name": "python3",
      "display_name": "Python 3"
    }
  },
  "cells": [
    {
      "cell_type": "markdown",
      "metadata": {
        "id": "view-in-github",
        "colab_type": "text"
      },
      "source": [
        "<a href=\"https://colab.research.google.com/github/ShankarDhandapani/Google-colab/blob/master/TensorFlow_Basics.ipynb\" target=\"_parent\"><img src=\"https://colab.research.google.com/assets/colab-badge.svg\" alt=\"Open In Colab\"/></a>"
      ]
    },
    {
      "metadata": {
        "id": "g4vyanCZQ20I",
        "colab_type": "text"
      },
      "cell_type": "markdown",
      "source": [
        "![alt text](http://www.freelogovectors.net/wp-content/uploads/2018/07/tensorflow-logo.png)"
      ]
    },
    {
      "metadata": {
        "id": "WrmVMld4Ka9l",
        "colab_type": "code",
        "colab": {}
      },
      "cell_type": "code",
      "source": [
        "import tensorflow as tf\n",
        "import numpy as np"
      ],
      "execution_count": 0,
      "outputs": []
    },
    {
      "metadata": {
        "id": "-xMvaK5fA5rc",
        "colab_type": "text"
      },
      "cell_type": "markdown",
      "source": [
        "## Adding two tensors\n",
        "First, let's try doing this using numpy, the Python numeric package. numpy code is immediately evaluated."
      ]
    },
    {
      "metadata": {
        "id": "XKd4IJ_yXZuU",
        "colab_type": "code",
        "outputId": "171fdacd-d5c4-421d-b6d0-d48cd7574c22",
        "colab": {
          "base_uri": "https://localhost:8080/",
          "height": 34
        }
      },
      "cell_type": "code",
      "source": [
        "a = np.array([5, 3, 8])\n",
        "b = np.array([3, -1, 2])\n",
        "c = np.add(a, b)\n",
        "print (c)"
      ],
      "execution_count": 0,
      "outputs": [
        {
          "output_type": "stream",
          "text": [
            "[ 8  2 10]\n"
          ],
          "name": "stdout"
        }
      ]
    },
    {
      "metadata": {
        "id": "b1zRgPAPBDqy",
        "colab_type": "text"
      },
      "cell_type": "markdown",
      "source": [
        "The equivalent code in TensorFlow consists of two steps:\n",
        "## Step 1: Build the graph\n",
        "\n"
      ]
    },
    {
      "metadata": {
        "id": "wt4sczVbBPIJ",
        "colab_type": "code",
        "outputId": "dddeaab9-a88d-42c2-e03e-d7a0ea8fb99a",
        "colab": {
          "base_uri": "https://localhost:8080/",
          "height": 34
        }
      },
      "cell_type": "code",
      "source": [
        "a = tf.constant([5, 3, 8])\n",
        "b = tf.constant([3, -1, 2])\n",
        "c = tf.add(a, b)\n",
        "print (c)"
      ],
      "execution_count": 0,
      "outputs": [
        {
          "output_type": "stream",
          "text": [
            "Tensor(\"Add:0\", shape=(3,), dtype=int32)\n"
          ],
          "name": "stdout"
        }
      ]
    },
    {
      "metadata": {
        "id": "_9enwuJlBcGD",
        "colab_type": "text"
      },
      "cell_type": "markdown",
      "source": [
        "## Step 2: Run the graph\n"
      ]
    },
    {
      "metadata": {
        "id": "XTcSbCk2Be_r",
        "colab_type": "code",
        "outputId": "d3abd774-ad40-44db-b109-b45a0e6c8395",
        "colab": {
          "base_uri": "https://localhost:8080/",
          "height": 34
        }
      },
      "cell_type": "code",
      "source": [
        "with tf.Session() as sess:\n",
        "  result = sess.run(c)\n",
        "  print (result)"
      ],
      "execution_count": 0,
      "outputs": [
        {
          "output_type": "stream",
          "text": [
            "[ 8  2 10]\n"
          ],
          "name": "stdout"
        }
      ]
    },
    {
      "metadata": {
        "id": "MRHO0DLGcw06",
        "colab_type": "text"
      },
      "cell_type": "markdown",
      "source": [
        "![alt text](https://github.com/easy-tensorflow/easy-tensorflow/raw/0f0d0aac8783a375037059b459ce9090fb351955/1_TensorFlow_Basics/Tutorials/files/2_1.png)"
      ]
    },
    {
      "metadata": {
        "id": "2yKCs3BlCiwL",
        "colab_type": "text"
      },
      "cell_type": "markdown",
      "source": [
        "## Using a feed_dict\n",
        "Same graph, but without hardcoding inputs at build stage"
      ]
    },
    {
      "metadata": {
        "id": "Hn0fsfddc9oA",
        "colab_type": "code",
        "outputId": "025028f2-c8e0-489d-d4ab-c41cd1c39bd7",
        "colab": {
          "base_uri": "https://localhost:8080/",
          "height": 34
        }
      },
      "cell_type": "code",
      "source": [
        "a = tf.placeholder(dtype=tf.int32, shape=(None,))  # batchsize x scalar\n",
        "b = tf.placeholder(dtype=tf.int32, shape=(None,))\n",
        "c = tf.add(a, b)\n",
        "with tf.Session() as sess:\n",
        "  result = sess.run(c, feed_dict={\n",
        "      a: [3, 4, 5],\n",
        "      b: [-1, 2, 3]\n",
        "    })\n",
        "  print (result)"
      ],
      "execution_count": 0,
      "outputs": [
        {
          "output_type": "stream",
          "text": [
            "[2 6 8]\n"
          ],
          "name": "stdout"
        }
      ]
    },
    {
      "metadata": {
        "id": "35GLq-3fCwet",
        "colab_type": "text"
      },
      "cell_type": "markdown",
      "source": [
        "## Heron's Formula in TensorFlow\n",
        "The area of triangle whose three sides are $(a, b, c)$ is $\\sqrt{s(s-a)(s-b)(s-c)}$ where $s=\\frac{a+b+c}{2}$"
      ]
    },
    {
      "metadata": {
        "id": "YqNnfy5tC1Jt",
        "colab_type": "code",
        "outputId": "4afdb1ed-faba-4a25-ac62-7590c9d30e14",
        "colab": {
          "base_uri": "https://localhost:8080/",
          "height": 34
        }
      },
      "cell_type": "code",
      "source": [
        "def compute_area(sides):\n",
        "  # slice the input to get the sides\n",
        "  a = sides[:,0]  # 5.0, 2.3\n",
        "  b = sides[:,1]  # 3.0, 4.1\n",
        "  c = sides[:,2]  # 7.1, 4.8\n",
        "  # Heron's formula\n",
        "  s = (a + b + c) * 0.5   # (a + b) is a short-cut to tf.add(a, b)\n",
        "  areasq = s * (s - a) * (s - b) * (s - c) # (a * b) is a short-cut to tf.multiply(a, b), not tf.matmul(a, b)\n",
        "  return tf.sqrt(areasq)\n",
        "\n",
        "with tf.Session() as sess:\n",
        "  # pass in two triangles\n",
        "  area = compute_area(tf.constant([\n",
        "      [5.0, 3.0, 7.1],\n",
        "      [2.3, 4.1, 4.8]\n",
        "    ]))\n",
        "  result = sess.run(area)\n",
        "  print (result)"
      ],
      "execution_count": 0,
      "outputs": [
        {
          "output_type": "stream",
          "text": [
            "[6.278497 4.709139]\n"
          ],
          "name": "stdout"
        }
      ]
    },
    {
      "metadata": {
        "id": "uYjVpvAQDNh_",
        "colab_type": "text"
      },
      "cell_type": "markdown",
      "source": [
        "## Placeholder and feed_dict\n",
        "More common is to define the input to a program as a placeholder and then to feed in the inputs. The difference between the code below and the code above is whether the \"area\" graph is coded up with the input values or whether the \"area\" graph is coded up with a placeholder through which inputs will be passed in at run-time."
      ]
    },
    {
      "metadata": {
        "id": "NrDlGMg_0e0z",
        "colab_type": "code",
        "outputId": "74561b9f-a268-40a1-92c5-cba34b0ea827",
        "colab": {
          "base_uri": "https://localhost:8080/",
          "height": 34
        }
      },
      "cell_type": "code",
      "source": [
        "with tf.Session() as sess:\n",
        "  sides = tf.placeholder(tf.float32, shape=(None, 3))  # batchsize number of triangles, 3 sides\n",
        "  area = compute_area(sides)\n",
        "  result = sess.run(area, feed_dict = {\n",
        "      sides: [\n",
        "        [5.0, 3.0, 7.1],\n",
        "        [2.3, 4.1, 4.8]\n",
        "      ]\n",
        "    })\n",
        "  print (result)"
      ],
      "execution_count": 0,
      "outputs": [
        {
          "output_type": "stream",
          "text": [
            "[6.278497 4.709139]\n"
          ],
          "name": "stdout"
        }
      ]
    },
    {
      "metadata": {
        "id": "ZPKAlfgXDlPi",
        "colab_type": "text"
      },
      "cell_type": "markdown",
      "source": [
        "## tf.eager\n",
        "tf.eager allows you to avoid the build-then-run stages. However, most production code will follow the lazy evaluation paradigm because the lazy evaluation paradigm is what allows for multi-device support and distribution.\n",
        "\n",
        "One thing you could do is to develop using tf.eager and then comment out the eager execution and add in the session management code.\n",
        "\n",
        "**To run this block, you must first reset the notebook using Reset on the menu bar, then run this block only.**"
      ]
    },
    {
      "metadata": {
        "id": "JXFpI14mALGQ",
        "colab_type": "code",
        "outputId": "f9199a0e-0b32-4274-80cc-b64c7af66f86",
        "colab": {
          "base_uri": "https://localhost:8080/",
          "height": 34
        }
      },
      "cell_type": "code",
      "source": [
        "import tensorflow as tf\n",
        "from tensorflow.contrib.eager.python import tfe\n",
        "\n",
        "tfe.enable_eager_execution()\n",
        "\n",
        "def compute_area(sides):\n",
        "  # slice the input to get the sides\n",
        "  a = sides[:,0]  # 5.0, 2.3\n",
        "  b = sides[:,1]  # 3.0, 4.1\n",
        "  c = sides[:,2]  # 7.1, 4.8\n",
        "  \n",
        "  # Heron's formula\n",
        "  s = (a + b + c) * 0.5   # (a + b) is a short-cut to tf.add(a, b)\n",
        "  areasq = s * (s - a) * (s - b) * (s - c) # (a * b) is a short-cut to tf.multiply(a, b), not tf.matmul(a, b)\n",
        "  return tf.sqrt(areasq)\n",
        "\n",
        "area = compute_area(tf.constant([\n",
        "      [5.0, 3.0, 7.1],\n",
        "      [2.3, 4.1, 4.8]\n",
        "    ]))\n",
        "\n",
        "\n",
        "print (area)"
      ],
      "execution_count": 0,
      "outputs": [
        {
          "output_type": "stream",
          "text": [
            "tf.Tensor([6.278497 4.709139], shape=(2,), dtype=float32)\n"
          ],
          "name": "stdout"
        }
      ]
    },
    {
      "metadata": {
        "id": "Aok5QzLeENZ5",
        "colab_type": "text"
      },
      "cell_type": "markdown",
      "source": [
        "## Exercise\n",
        "\n",
        "Generate code for this formula Ax+By+Cy+Dx where A = x+y , B = x - y, C= x*y, D= x/y"
      ]
    },
    {
      "metadata": {
        "id": "Og_mAlSdDupX",
        "colab_type": "code",
        "colab": {}
      },
      "cell_type": "code",
      "source": [
        "#Write your code"
      ],
      "execution_count": 0,
      "outputs": []
    }
  ]
}